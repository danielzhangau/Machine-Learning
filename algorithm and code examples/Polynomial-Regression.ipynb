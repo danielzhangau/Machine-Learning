{
 "cells": [
  {
   "cell_type": "markdown",
   "metadata": {},
   "source": [
    "## Polynomial Regression:\n",
    "Sometimes we have data that does not merely follow a linear trend. We sometimes have data that follows a polynomial trend. Therefore, we are going to use polynomial regression.\n",
    "Before digging into its implementation, we need to know how the graphs of some primary polynomial data look.\n",
    "moreon: https://pub.towardsai.net/machine-learning-algorithms-for-beginners-with-python-code-examples-ml-19c6afd60daa"
   ]
  },
  {
   "cell_type": "markdown",
   "metadata": {},
   "source": [
    "### Graph for Y=X:"
   ]
  },
  {
   "cell_type": "code",
   "execution_count": 1,
   "metadata": {},
   "outputs": [
    {
     "data": {
      "text/plain": [
       "<matplotlib.collections.PathCollection at 0x2418c314670>"
      ]
     },
     "execution_count": 1,
     "metadata": {},
     "output_type": "execute_result"
    },
    {
     "data": {
      "image/png": "[encoded data removed]",
      "text/plain": [
       "<Figure size 432x288 with 1 Axes>"
      ]
     },
     "metadata": {
      "needs_background": "light"
     },
     "output_type": "display_data"
    }
   ],
   "source": [
    "# Import required libraries:\n",
    "import numpy as np\n",
    "import matplotlib.pyplot as plt\n",
    "# Generate datapoints:\n",
    "x = np.arange(-5,5,0.1)  # (start, end, stepsize)\n",
    "n = len(x)\n",
    "\n",
    "# add some noise to our data:\n",
    "# Here we are using normal distribution:\n",
    "\n",
    "y_noise = 20 * np.random.normal(size = len(x))\n",
    "y = 1*(x**3) + 1*(x**2) + 1*x + 3+y_noise\n",
    "plt.scatter(x,y)"
   ]
  },
  {
   "cell_type": "markdown",
   "metadata": {},
   "source": [
    "### Initialize x,x²,x³ vectors:\n",
    "We are taking the maximum power of x as 3. So our X matrix will have X, X², X³."
   ]
  },
  {
   "cell_type": "code",
   "execution_count": 2,
   "metadata": {},
   "outputs": [],
   "source": [
    "# Make polynomial data:\n",
    "x1 = x\n",
    "x2 = np.power(x1,2)\n",
    "x3 = np.power(x1,3)"
   ]
  },
  {
   "cell_type": "code",
   "execution_count": 3,
   "metadata": {},
   "outputs": [],
   "source": [
    "# Reshaping data:\n",
    "x1_new = np.reshape(x1,(n,1))\n",
    "x2_new = np.reshape(x2,(n,1))\n",
    "x3_new = np.reshape(x3,(n,1))"
   ]
  },
  {
   "cell_type": "markdown",
   "metadata": {},
   "source": [
    "### Column-1 of X matrix:\n",
    "The 1st column of the main matrix X will always be 1 because it holds the coefficient of beta_0."
   ]
  },
  {
   "cell_type": "code",
   "execution_count": 4,
   "metadata": {},
   "outputs": [],
   "source": [
    "# First column of matrix X:\n",
    "x_bias = np.ones((n,1))"
   ]
  },
  {
   "cell_type": "markdown",
   "metadata": {},
   "source": [
    "### Form the complete x matrix:\n",
    "Look at the matrix X at the start of this implementation. We are going to create it by appending vectors."
   ]
  },
  {
   "cell_type": "code",
   "execution_count": 5,
   "metadata": {},
   "outputs": [],
   "source": [
    "# Form the complete x matrix:\n",
    "x_new = np.append(x_bias,x1_new,axis=1)\n",
    "x_new = np.append(x_new,x2_new,axis=1)\n",
    "x_new = np.append(x_new,x3_new,axis=1)"
   ]
  },
  {
   "cell_type": "markdown",
   "metadata": {},
   "source": [
    "### Transpose of the matrix:\n",
    "We are going to calculate the value of theta step-by-step. First, we need to find the transpose of the matrix."
   ]
  },
  {
   "cell_type": "code",
   "execution_count": 6,
   "metadata": {},
   "outputs": [],
   "source": [
    "# Finding transpose:\n",
    "x_new_transpose = np.transpose(x_new)"
   ]
  },
  {
   "cell_type": "markdown",
   "metadata": {},
   "source": [
    "### Matrix multiplication:\n",
    "After finding the transpose, we need to multiply it with the original matrix. Keep in mind that we are going to implement it with a normal equation, so we have to follow its rules."
   ]
  },
  {
   "cell_type": "code",
   "execution_count": 7,
   "metadata": {},
   "outputs": [],
   "source": [
    "# Finding dot product of original and transposed matrix :\n",
    "x_new_transpose_dot_x_new = x_new_transpose.dot(x_new)"
   ]
  },
  {
   "cell_type": "markdown",
   "metadata": {},
   "source": [
    "### The inverse of a matrix:\n",
    "Finding the inverse of the matrix and storing it in temp1."
   ]
  },
  {
   "cell_type": "code",
   "execution_count": 8,
   "metadata": {},
   "outputs": [],
   "source": [
    "# Finding Inverse:\n",
    "temp_1 = np.linalg.inv(x_new_transpose_dot_x_new)# Finding the dot product of transposed x and y :"
   ]
  },
  {
   "cell_type": "markdown",
   "metadata": {},
   "source": [
    "### Matrix multiplication:\n",
    "Finding the multiplication of transposed X and the Y vector and storing it in the temp2 variable."
   ]
  },
  {
   "cell_type": "code",
   "execution_count": 9,
   "metadata": {},
   "outputs": [],
   "source": [
    "temp_2 = x_new_transpose.dot(y)"
   ]
  },
  {
   "cell_type": "markdown",
   "metadata": {},
   "source": [
    "### Coefficient values:\n",
    "To find the coefficient values, we need to multiply temp1 and temp2. See the Normal Equation formula."
   ]
  },
  {
   "cell_type": "code",
   "execution_count": 10,
   "metadata": {},
   "outputs": [
    {
     "data": {
      "text/plain": [
       "array([7.58268919, 2.55910116, 0.63476432, 0.8805793 ])"
      ]
     },
     "execution_count": 10,
     "metadata": {},
     "output_type": "execute_result"
    }
   ],
   "source": [
    "# Finding coefficients:\n",
    "theta = temp_1.dot(temp_2)\n",
    "theta"
   ]
  },
  {
   "cell_type": "markdown",
   "metadata": {},
   "source": [
    "### Store the coefficients in variables:\n",
    "Storing those coefficient values in different variables."
   ]
  },
  {
   "cell_type": "code",
   "execution_count": 11,
   "metadata": {},
   "outputs": [],
   "source": [
    "# Store coefficient values in different variables:\n",
    "beta_0 = theta[0]\n",
    "beta_1 = theta[1]\n",
    "beta_2 = theta[2]\n",
    "beta_3 = theta[3]"
   ]
  },
  {
   "cell_type": "markdown",
   "metadata": {},
   "source": [
    "### Plot the data with curve:\n",
    "Plotting the data with the regression curve."
   ]
  },
  {
   "cell_type": "code",
   "execution_count": 12,
   "metadata": {},
   "outputs": [
    {
     "data": {
      "text/plain": [
       "[<matplotlib.lines.Line2D at 0x2418c3bbbe0>]"
      ]
     },
     "execution_count": 12,
     "metadata": {},
     "output_type": "execute_result"
    },
    {
     "data": {
      "image/png": "[encoded data removed]",
      "text/plain": [
       "<Figure size 432x288 with 1 Axes>"
      ]
     },
     "metadata": {
      "needs_background": "light"
     },
     "output_type": "display_data"
    }
   ],
   "source": [
    "# Plot the polynomial curve:\n",
    "plt.scatter(x,y)\n",
    "plt.plot(x,beta_0 + beta_1*x1 + beta_2*x2 + beta_3*x3,c=\"red\")\n",
    "# Prediction function:"
   ]
  },
  {
   "cell_type": "markdown",
   "metadata": {},
   "source": [
    "### Prediction function:\n",
    "Now we are going to predict the output using the regression curve."
   ]
  },
  {
   "cell_type": "code",
   "execution_count": 13,
   "metadata": {},
   "outputs": [],
   "source": [
    "def prediction(x1,x2,x3,beta_0,beta_1,beta_2,beta_3):\n",
    "    y_pred = beta_0 + beta_1*x1 + beta_2*x2 + beta_3*x3\n",
    "    return y_pred\n",
    " \n",
    "# Making predictions:\n",
    "pred = prediction(x1,x2,x3,beta_0,beta_1,beta_2,beta_3)"
   ]
  },
  {
   "cell_type": "markdown",
   "metadata": {},
   "source": [
    "### Error function:\n",
    "Calculate the error using mean squared error function."
   ]
  },
  {
   "cell_type": "code",
   "execution_count": 14,
   "metadata": {},
   "outputs": [
    {
     "data": {
      "text/plain": [
       "456.00116664347115"
      ]
     },
     "execution_count": 14,
     "metadata": {},
     "output_type": "execute_result"
    }
   ],
   "source": [
    "# Calculate accuracy of model:\n",
    "def err(y_pred,y):\n",
    "    var = (y - y_pred)\n",
    "    var = var*var\n",
    "    n = len(var)\n",
    "    MSE = var.sum()\n",
    "    MSE = MSE/n\n",
    " \n",
    "    return MSE\n",
    "# Calculating the error:\n",
    "error = err(pred,y)\n",
    "error"
   ]
  }
 ],
 "metadata": {
  "kernelspec": {
   "display_name": "Python 3",
   "language": "python",
   "name": "python3"
  },
  "language_info": {
   "codemirror_mode": {
    "name": "ipython",
    "version": 3
   },
   "file_extension": ".py",
   "mimetype": "text/x-python",
   "name": "python",
   "nbconvert_exporter": "python",
   "pygments_lexer": "ipython3",
   "version": "3.8.3"
  }
 },
 "nbformat": 4,
 "nbformat_minor": 4
}
